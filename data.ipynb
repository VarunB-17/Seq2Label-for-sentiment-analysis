{
 "cells": [
  {
   "cell_type": "code",
   "execution_count": 15,
   "id": "43a7b3f7",
   "metadata": {},
   "outputs": [],
   "source": [
    "\"\"\"\n",
    "Loads the IMDB dataset as a pandas dataframe\n",
    "in order to perform basic visualization.\n",
    "\"\"\"\n",
    "import pandas as pd\n",
    "from data_rnn import load_imdb\n",
    "import torch"
   ]
  },
  {
   "cell_type": "code",
   "execution_count": 21,
   "id": "f448ff3e",
   "metadata": {},
   "outputs": [],
   "source": [
    "def data2df(val=False) -> pd.DataFrame:\n",
    "    \n",
    "    # load data\n",
    "    (x_train, y_train), (x_test, y_test), (i2w, w2i), _ = load_imdb(final=val)\n",
    "\n",
    "    # Convert word ids to actual string representation of words\n",
    "    words_train = [[i2w[word] for word in sent] for sent in x_train]\n",
    "    words_test = [[i2w[word] for word in sent] for sent in x_test]\n",
    "    \n",
    "    # Dataframe\n",
    "    df_train = pd.DataFrame({'sents': words_train,\n",
    "                             'x_train':x_train,\n",
    "                             'y_train':y_train})\n",
    "    \n",
    "    df_test = pd.DataFrame({'sents': words_test,\n",
    "                            'x_test':x_test,\n",
    "                            'y_test':y_test})\n",
    "    \n",
    "    # sorting data in ascending order\n",
    "    df_train['len'] = df_train['x_train'].apply(lambda x: len(x))\n",
    "    df_train = df_train.sort_values(by=['len'])\n",
    "    df_test['len'] = df_test['x_test'].apply(lambda x: len(x))\n",
    "    df_test = df_test.sort_values(by=['len'])\n",
    "    \n",
    "    \n",
    "    return df_train, df_test"
   ]
  }
 ],
 "metadata": {
  "kernelspec": {
   "display_name": "Python 3 (ipykernel)",
   "language": "python",
   "name": "python3"
  },
  "language_info": {
   "codemirror_mode": {
    "name": "ipython",
    "version": 3
   },
   "file_extension": ".py",
   "mimetype": "text/x-python",
   "name": "python",
   "nbconvert_exporter": "python",
   "pygments_lexer": "ipython3",
   "version": "3.10.4"
  }
 },
 "nbformat": 4,
 "nbformat_minor": 5
}