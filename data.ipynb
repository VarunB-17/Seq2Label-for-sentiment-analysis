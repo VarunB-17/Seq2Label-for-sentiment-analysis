{
 "cells": [
  {
   "cell_type": "code",
   "execution_count": 117,
   "id": "43a7b3f7",
   "metadata": {},
   "outputs": [],
   "source": [
    "\"\"\"\n",
    "Loads the IMDB dataset as a pandas dataframe\n",
    "in order to perform basic visualization.\n",
    "\"\"\"\n",
    "import pandas as pd\n",
    "from data_rnn import load_imdb\n",
    "import torch\n",
    "from torch.utils.data import Dataset, DataLoader"
   ]
  },
  {
   "cell_type": "code",
   "execution_count": 108,
   "id": "f448ff3e",
   "metadata": {},
   "outputs": [],
   "source": [
    "def load_data():\n",
    "    \n",
    "    # load data\n",
    "    (x_train, y_train), (x_test, y_test), (i2w, w2i), _ = load_imdb(final=True)\n",
    "\n",
    "    # Convert word ids to actual string representation of words\n",
    "    words_train = [[i2w[word] for word in sent] for sent in x_train]\n",
    "    words_test = [[i2w[word] for word in sent] for sent in x_test]\n",
    "    \n",
    "    # Dataframe\n",
    "    train = pd.DataFrame({'sents': words_train,\n",
    "                             'x_train':x_train,\n",
    "                             'y_train':y_train})\n",
    "    \n",
    "    test = pd.DataFrame({'sents': words_train,\n",
    "                            'x_test':x_test,\n",
    "                            'y_test':y_test})    \n",
    "    return train,test"
   ]
  },
  {
   "cell_type": "code",
   "execution_count": 109,
   "id": "ad8d6126",
   "metadata": {},
   "outputs": [],
   "source": [
    "df_train,df_test = load_data()"
   ]
  },
  {
   "cell_type": "code",
   "execution_count": 110,
   "id": "56155d6f",
   "metadata": {},
   "outputs": [],
   "source": [
    "df_train['len'] = df_train['x_train'].apply(lambda x: len(x))"
   ]
  },
  {
   "cell_type": "code",
   "execution_count": 111,
   "id": "86a2dbc0",
   "metadata": {},
   "outputs": [],
   "source": [
    "df_train = df_train.sort_values(by=['len'])"
   ]
  },
  {
   "cell_type": "code",
   "execution_count": 113,
   "id": "e5191f82",
   "metadata": {},
   "outputs": [],
   "source": [
    "df_test['len'] = df_test['x_test'].apply(lambda x: len(x))"
   ]
  },
  {
   "cell_type": "code",
   "execution_count": 114,
   "id": "dd324c59",
   "metadata": {},
   "outputs": [],
   "source": [
    "df_test = df_test.sort_values(by=['len'])"
   ]
  },
  {
   "cell_type": "code",
   "execution_count": 127,
   "id": "c23a36d0",
   "metadata": {},
   "outputs": [
    {
     "ename": "ValueError",
     "evalue": "expected sequence of length 10 at dim 1 (got 11)",
     "output_type": "error",
     "traceback": [
      "\u001b[1;31m---------------------------------------------------------------------------\u001b[0m",
      "\u001b[1;31mValueError\u001b[0m                                Traceback (most recent call last)",
      "Input \u001b[1;32mIn [127]\u001b[0m, in \u001b[0;36m<cell line: 2>\u001b[1;34m()\u001b[0m\n\u001b[0;32m      1\u001b[0m \u001b[38;5;66;03m# convert to tensors\u001b[39;00m\n\u001b[1;32m----> 2\u001b[0m x_train \u001b[38;5;241m=\u001b[39m \u001b[43mtorch\u001b[49m\u001b[38;5;241;43m.\u001b[39;49m\u001b[43mtensor\u001b[49m\u001b[43m(\u001b[49m\u001b[43mdf_train\u001b[49m\u001b[43m[\u001b[49m\u001b[38;5;124;43m'\u001b[39;49m\u001b[38;5;124;43mx_train\u001b[39;49m\u001b[38;5;124;43m'\u001b[39;49m\u001b[43m]\u001b[49m\u001b[43m,\u001b[49m\u001b[43m \u001b[49m\u001b[43mdtype\u001b[49m\u001b[38;5;241;43m=\u001b[39;49m\u001b[43mtorch\u001b[49m\u001b[38;5;241;43m.\u001b[39;49m\u001b[43mlong\u001b[49m\u001b[43m)\u001b[49m\n\u001b[0;32m      3\u001b[0m y_train \u001b[38;5;241m=\u001b[39m torch\u001b[38;5;241m.\u001b[39mtensor(df_train[\u001b[38;5;124m'\u001b[39m\u001b[38;5;124my_train\u001b[39m\u001b[38;5;124m'\u001b[39m], dtype\u001b[38;5;241m=\u001b[39mtorch\u001b[38;5;241m.\u001b[39mlong)\n",
      "\u001b[1;31mValueError\u001b[0m: expected sequence of length 10 at dim 1 (got 11)"
     ]
    }
   ],
   "source": [
    "# convert to tensors\n",
    "x_train = torch.tensor(df_train['x_train'], dtype=torch.long)\n",
    "y_train = torch.tensor(df_train['y_train'], dtype=torch.long)"
   ]
  },
  {
   "cell_type": "code",
   "execution_count": 125,
   "id": "7d00c00a",
   "metadata": {},
   "outputs": [
    {
     "data": {
      "text/plain": [
       "0                [14, 19, 9, 379, 22, 11, 50, 52, 53, 290]\n",
       "1        [13, 574, 25, 809, 14, 32, 63, 26, 2722, 2231,...\n",
       "2        [6990, 27871, 9, 322, 9, 14, 23, 28, 168, 6, 1...\n",
       "3        [10721, 4, 10956, 129, 6, 124, 88114, 5, 6, 19...\n",
       "4        [24, 203, 131, 2125, 811, 5850, 16, 63, 49, 24...\n",
       "                               ...                        \n",
       "24995    [1020, 10, 10, 165, 13, 889, 14, 277, 72, 136,...\n",
       "24996    [37, 151, 24, 141, 241, 548, 6, 228, 48, 4, 17...\n",
       "24997    [3596, 518, 37, 598, 2998, 2449, 6, 2939, 114,...\n",
       "24998    [677, 1020, 10, 10, 92, 7, 34, 277, 72, 136, 1...\n",
       "24999    [1011, 3951, 702, 2344, 1011, 13628, 1262, 5, ...\n",
       "Name: x_train, Length: 25000, dtype: object"
      ]
     },
     "execution_count": 125,
     "metadata": {},
     "output_type": "execute_result"
    }
   ],
   "source": [
    "df_train.x_train"
   ]
  }
 ],
 "metadata": {
  "kernelspec": {
   "display_name": "Python 3 (ipykernel)",
   "language": "python",
   "name": "python3"
  },
  "language_info": {
   "codemirror_mode": {
    "name": "ipython",
    "version": 3
   },
   "file_extension": ".py",
   "mimetype": "text/x-python",
   "name": "python",
   "nbconvert_exporter": "python",
   "pygments_lexer": "ipython3",
   "version": "3.10.4"
  }
 },
 "nbformat": 4,
 "nbformat_minor": 5
}
